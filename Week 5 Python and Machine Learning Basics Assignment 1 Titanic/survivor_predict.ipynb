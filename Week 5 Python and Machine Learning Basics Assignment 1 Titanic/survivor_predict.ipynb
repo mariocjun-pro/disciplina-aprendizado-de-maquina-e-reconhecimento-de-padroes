{
 "cells": [
  {
   "cell_type": "markdown",
   "id": "b36ad5f1635400cd",
   "metadata": {
    "collapsed": false
   },
   "source": [
    "## Dicionário de Dados\n",
    "\n",
    "| Variável | Definição                                      | Chave                                          |\n",
    "|----------|------------------------------------------------|------------------------------------------------|\n",
    "| survival | Sobrevivência                                  | 0 = Não, 1 = Sim                               |\n",
    "| pclass   | Classe do Bilhete                              | 1 = 1ª, 2 = 2ª, 3 = 3ª                         |\n",
    "| sex      | Sexo                                           |                                                |\n",
    "| Age      | Idade em anos                                  |                                                |\n",
    "| sibsp    | Número de irmãos / cônjuges a bordo do Titanic |                                                |\n",
    "| parch    | Número de pais / filhos a bordo do Titanic     |                                                |\n",
    "| ticket   | Número do Bilhete                              |                                                |\n",
    "| fare     | Tarifa do Passageiro                           |                                                |\n",
    "| cabin    | Número da Cabine                               |                                                |\n",
    "| embarked | Porto de Embarque                              | C = Cherbourg, Q = Queenstown, S = Southampton |\n",
    "\n",
    "pclass: Classes economicas: \n",
    "    * 1st = Upper,\n",
    "    * 2nd = Middle,\n",
    "    * 3rd = Lower\n",
    "age: Idade estimada\n",
    "sibsp: Irmãos e cônjuges a bordo.\n",
    "    * Sibling = Irmão, irmã, meio-irmão, meia-irmã;;;\n",
    "    * Spouse = Marido, esposa (amantes e noivos foram ignorados)\n",
    "parch: Pais e filhos a bordo.\n",
    "    * Parent = Mãe, pai\n",
    "    * Child = Filha, filho, enteada, enteado\n",
    "    * Algumas crianças viajaram apenas com uma babá, portanto parch = 0 para elas."
   ]
  },
  {
   "cell_type": "code",
   "execution_count": null,
   "outputs": [],
   "source": [
    "# Parte do código teve IA como copiloto, principalmente na questão de autocompletar códigos e correção de erros."
   ],
   "metadata": {
    "collapsed": false
   },
   "id": "b8439dcf16da795c"
  },
  {
   "cell_type": "code",
   "execution_count": null,
   "outputs": [],
   "source": [
    "# Resultados das analises. \n",
    "# Os resultados abaixo mostram como sempre devemos nos basear em outras métricas alem da acuracia.\n",
    "\n",
    "from IPython.display import Image\n",
    "\n",
    "Image(filename='./output/resultado.png')"
   ],
   "metadata": {
    "collapsed": false
   },
   "id": "f9dfa72447e4a139"
  },
  {
   "cell_type": "code",
   "execution_count": null,
   "id": "ba2e82d7807130c",
   "metadata": {
    "collapsed": false
   },
   "outputs": [],
   "source": [
    "import numpy as np\n",
    "import pandas as pd\n",
    "import seaborn as sns\n",
    "\n",
    "sns.set_style('whitegrid')\n",
    "\n",
    "# Machine learning\n",
    "from sklearn import model_selection, metrics\n",
    "from sklearn.svm import LinearSVC\n",
    "from sklearn.neighbors import KNeighborsClassifier\n",
    "from sklearn.naive_bayes import GaussianNB\n",
    "from sklearn.linear_model import SGDClassifier\n",
    "from catboost import cv\n",
    "\n",
    "from sklearn.linear_model import LogisticRegression\n",
    "from sklearn.model_selection import GridSearchCV, cross_val_predict\n",
    "from sklearn.metrics import accuracy_score\n",
    "from sklearn.tree import DecisionTreeClassifier\n",
    "from sklearn.ensemble import RandomForestClassifier, GradientBoostingClassifier\n",
    "from catboost import CatBoostClassifier"
   ]
  },
  {
   "cell_type": "code",
   "execution_count": null,
   "id": "a833cd6fab416454",
   "metadata": {
    "collapsed": false
   },
   "outputs": [],
   "source": [
    "# Verificando os arquivos no diretório\n",
    "import os\n",
    "\n",
    "for dirname, _, filenames in os.walk('input'):\n",
    "    for filename in filenames:\n",
    "        print(os.path.join(dirname, filename))"
   ]
  },
  {
   "cell_type": "code",
   "execution_count": null,
   "id": "c7a8bc4f5b5f6171",
   "metadata": {
    "collapsed": false
   },
   "outputs": [],
   "source": [
    "# Testando a leitura do arquivo\n",
    "train_data = pd.read_csv('input/train.csv')\n",
    "train_data.describe()"
   ]
  },
  {
   "cell_type": "code",
   "execution_count": null,
   "id": "e67b1f3cfc0368d3",
   "metadata": {
    "collapsed": false
   },
   "outputs": [],
   "source": [
    "# Testando a leitura do arquivo\n",
    "test_data = pd.read_csv('input/test.csv')\n",
    "test_data.describe()"
   ]
  },
  {
   "cell_type": "code",
   "execution_count": null,
   "id": "acb6b1ccfafef699",
   "metadata": {
    "collapsed": false
   },
   "outputs": [],
   "source": [
    "train_data.info()"
   ]
  },
  {
   "cell_type": "code",
   "execution_count": null,
   "id": "798c4b9eb22d6890",
   "metadata": {
    "collapsed": false
   },
   "outputs": [],
   "source": [
    "test_data.info()"
   ]
  },
  {
   "cell_type": "code",
   "execution_count": null,
   "id": "bd06cbd2833780d7",
   "metadata": {
    "collapsed": false
   },
   "outputs": [],
   "source": [
    "train_data.isnull().sum()"
   ]
  },
  {
   "cell_type": "code",
   "execution_count": null,
   "id": "68b974dead67619b",
   "metadata": {
    "collapsed": false
   },
   "outputs": [],
   "source": [
    "test_data.isnull().sum()"
   ]
  },
  {
   "cell_type": "code",
   "execution_count": null,
   "id": "c249f90444ec41ce",
   "metadata": {
    "collapsed": false
   },
   "outputs": [],
   "source": [
    "# Salvar PassengerId para auxiliar na criação do arquivo que será enviado ao Kaggle\n",
    "passengerId = test_data['PassengerId']\n",
    "passengerId"
   ]
  },
  {
   "cell_type": "code",
   "execution_count": null,
   "id": "409984abe8a6600f",
   "metadata": {
    "collapsed": false
   },
   "outputs": [],
   "source": [
    "# Criando um novo dataset com os dados de treino e teste\n",
    "titanic_df = pd.concat([train_data, test_data], sort=False)"
   ]
  },
  {
   "cell_type": "code",
   "execution_count": null,
   "id": "8e73ded3aaaa9072",
   "metadata": {
    "collapsed": false
   },
   "outputs": [],
   "source": [
    "# Para auxiliar no momento separar o DF titanic_df em train e test\n",
    "train_index = len(train_data)\n",
    "test_index = len(titanic_df) - len(test_data)"
   ]
  },
  {
   "cell_type": "code",
   "execution_count": null,
   "id": "1782836e630f0bcc",
   "metadata": {
    "collapsed": false
   },
   "outputs": [],
   "source": [
    "# Verificando o novo dataset\n",
    "titanic_df.info()"
   ]
  },
  {
   "cell_type": "code",
   "execution_count": null,
   "id": "9a50afb0d7756d37",
   "metadata": {
    "collapsed": false
   },
   "outputs": [],
   "source": [
    "# Verificando os dados faltantes\n",
    "titanic_df.isnull().sum()"
   ]
  },
  {
   "cell_type": "code",
   "execution_count": null,
   "id": "8093882f14e5627a",
   "metadata": {
    "collapsed": false
   },
   "outputs": [],
   "source": [
    "titanic_df.info()"
   ]
  },
  {
   "cell_type": "code",
   "execution_count": null,
   "id": "344063f8b858883",
   "metadata": {
    "collapsed": false
   },
   "outputs": [],
   "source": [
    "# Verificando a distribuição dos dados\n",
    "titanic_df.describe()"
   ]
  },
  {
   "cell_type": "code",
   "execution_count": null,
   "id": "fbbe3faa27b84ef8",
   "metadata": {
    "collapsed": false
   },
   "outputs": [],
   "source": [
    "# Verificando a distribuição dos dados\n",
    "train_data.describe()"
   ]
  },
  {
   "cell_type": "code",
   "execution_count": null,
   "id": "a7a18dd1a2c83c61",
   "metadata": {
    "collapsed": false
   },
   "outputs": [],
   "source": [
    "# Criando o df onde iremos processar os modelos de ML\n",
    "\n",
    "df = pd.DataFrame()"
   ]
  },
  {
   "cell_type": "code",
   "execution_count": null,
   "id": "47778e04bfa334ee",
   "metadata": {
    "collapsed": false
   },
   "outputs": [],
   "source": [
    "# Sobreviventes\n",
    "titanic_df['Survived'].nunique()"
   ]
  },
  {
   "cell_type": "code",
   "execution_count": null,
   "id": "b4514cbe75200011",
   "metadata": {
    "collapsed": false
   },
   "outputs": [],
   "source": [
    "titanic_df['Survived'].unique()"
   ]
  },
  {
   "cell_type": "code",
   "execution_count": null,
   "id": "19665585249e583b",
   "metadata": {
    "collapsed": false
   },
   "outputs": [],
   "source": [
    "titanic_df['Survived'].isnull().sum()"
   ]
  },
  {
   "cell_type": "code",
   "execution_count": null,
   "id": "617da27c087d5319",
   "metadata": {
    "collapsed": false
   },
   "outputs": [],
   "source": [
    "titanic_df['Survived'].value_counts()"
   ]
  },
  {
   "cell_type": "code",
   "execution_count": null,
   "id": "13321cd6e0852e02",
   "metadata": {
    "collapsed": false
   },
   "outputs": [],
   "source": [
    "sns.countplot(data=titanic_df, x='Survived')"
   ]
  },
  {
   "cell_type": "code",
   "execution_count": null,
   "id": "30b9f1aeff8eee9b",
   "metadata": {
    "collapsed": false
   },
   "outputs": [],
   "source": [
    "# Criando uma função para ajudar no momento de visualizar as informações de cada coluna\n",
    "\n",
    "def titanic_func(data, column, count=True):\n",
    "    print(f'Quantidade de valores únicos: {data[column].nunique()}')\n",
    "    print(f'\\nQuais são os valores únicos: {data[column].unique()}')\n",
    "    print(f'\\nQuantidade de valores nulos: {data[column].isnull().sum()}')\n",
    "    print(f'\\nQuantidade por opção: \\n{data[column].value_counts()}')\n",
    "\n",
    "    if count:\n",
    "        sns.countplot(data=data, x=column, hue='Survived')\n",
    "    else:\n",
    "        sns.displot(data[column], kde=True)\n",
    "\n",
    "\n",
    "titanic_func(titanic_df, 'Survived')"
   ]
  },
  {
   "cell_type": "code",
   "execution_count": null,
   "id": "cc8547484161523a",
   "metadata": {
    "collapsed": false
   },
   "outputs": [],
   "source": [
    "df['Survived'] = titanic_df['Survived']"
   ]
  },
  {
   "cell_type": "code",
   "execution_count": null,
   "id": "e53e2c14998b3559",
   "metadata": {
    "collapsed": false
   },
   "outputs": [],
   "source": [
    "df"
   ]
  },
  {
   "cell_type": "code",
   "execution_count": null,
   "id": "5303b5e094af9e5f",
   "metadata": {
    "collapsed": false
   },
   "outputs": [],
   "source": [
    "### Pclass"
   ]
  },
  {
   "cell_type": "code",
   "execution_count": null,
   "id": "11f075f9b9bc0d6a",
   "metadata": {
    "collapsed": false
   },
   "outputs": [],
   "source": [
    "titanic_func(titanic_df, 'Pclass')"
   ]
  },
  {
   "cell_type": "code",
   "execution_count": null,
   "id": "68173d22744ee205",
   "metadata": {
    "collapsed": false
   },
   "outputs": [],
   "source": [
    "df['Pclass'] = titanic_df['Pclass']\n",
    "df.head()"
   ]
  },
  {
   "cell_type": "code",
   "execution_count": null,
   "id": "99e471b66eb6a1ef",
   "metadata": {
    "collapsed": false
   },
   "outputs": [],
   "source": [
    "### Sex"
   ]
  },
  {
   "cell_type": "code",
   "execution_count": null,
   "id": "4236542c10f227f1",
   "metadata": {
    "collapsed": false
   },
   "outputs": [],
   "source": [
    "titanic_df['Sex'].unique()"
   ]
  },
  {
   "cell_type": "code",
   "execution_count": null,
   "id": "d859bbcea928480e",
   "metadata": {
    "collapsed": false
   },
   "outputs": [],
   "source": [
    "titanic_df['Sex'] = titanic_df['Sex'].replace(['female', 'male'], [1, 0])"
   ]
  },
  {
   "cell_type": "code",
   "execution_count": null,
   "id": "7959280b8886b140",
   "metadata": {
    "collapsed": false
   },
   "outputs": [],
   "source": [
    "titanic_func(titanic_df, 'Sex')"
   ]
  },
  {
   "cell_type": "code",
   "execution_count": null,
   "id": "1340f79e14e04dc6",
   "metadata": {
    "collapsed": false
   },
   "outputs": [],
   "source": [
    "df['Sex'] = titanic_df['Sex']\n",
    "df.head()"
   ]
  },
  {
   "cell_type": "code",
   "execution_count": null,
   "id": "30037b89edd6c6fb",
   "metadata": {
    "collapsed": false
   },
   "outputs": [],
   "source": [
    "### Age"
   ]
  },
  {
   "cell_type": "code",
   "execution_count": null,
   "id": "21ccc08f3d8a7273",
   "metadata": {
    "collapsed": false
   },
   "outputs": [],
   "source": [
    "titanic_func(titanic_df, 'Age', count=False)"
   ]
  },
  {
   "cell_type": "code",
   "execution_count": null,
   "id": "1ddf23367321b1cd",
   "metadata": {
    "collapsed": false
   },
   "outputs": [],
   "source": [
    "# Cria uma cópia do dataframe original, mantendo apenas as colunas numéricas\n",
    "numeric_df = titanic_df.select_dtypes(include=[np.number])\n",
    "correlation_matrix = numeric_df.corr()"
   ]
  },
  {
   "cell_type": "code",
   "execution_count": null,
   "id": "9efc1a5a72210159",
   "metadata": {
    "collapsed": false
   },
   "outputs": [],
   "source": [
    "titanic_df[titanic_df['Pclass'] == 1]['Age'].mean()"
   ]
  },
  {
   "cell_type": "code",
   "execution_count": null,
   "id": "ab7286241a44ddd3",
   "metadata": {
    "collapsed": false
   },
   "outputs": [],
   "source": [
    "titanic_df[titanic_df['Pclass'] == 2]['Age'].mean()"
   ]
  },
  {
   "cell_type": "code",
   "execution_count": null,
   "id": "75fc95f05a4717eb",
   "metadata": {
    "collapsed": false
   },
   "outputs": [],
   "source": [
    "titanic_df[titanic_df['Pclass'] == 3]['Age'].mean()"
   ]
  },
  {
   "cell_type": "code",
   "execution_count": null,
   "id": "ebe38e78c773a553",
   "metadata": {
    "collapsed": false
   },
   "outputs": [],
   "source": [
    "for i in sorted(numeric_df['Pclass'].unique()):\n",
    "    print(f'Pessoas da {i}º classe tem em média {round(numeric_df[numeric_df[\"Pclass\"] == i][\"Age\"].mean(), 2)} anos')"
   ]
  },
  {
   "cell_type": "code",
   "execution_count": null,
   "id": "99d8a878fb0d21f7",
   "metadata": {
    "collapsed": false
   },
   "outputs": [],
   "source": [
    "titanic_df[titanic_df['Pclass'] == 1]['Age'].isnull().sum()"
   ]
  },
  {
   "cell_type": "code",
   "execution_count": null,
   "id": "cc810c9a15947fe",
   "metadata": {
    "collapsed": false
   },
   "outputs": [],
   "source": [
    "titanic_df['Age'].isnull().sum()"
   ]
  },
  {
   "cell_type": "code",
   "execution_count": null,
   "id": "788a528ef619a5e",
   "metadata": {
    "collapsed": false
   },
   "outputs": [],
   "source": [
    "# Preenchendo os valores nulos com a média de idade de cada classe\n",
    "titanic_df['Age'] = titanic_df['Age'].fillna(titanic_df.groupby('Pclass')['Age'].transform('mean'))\n"
   ]
  },
  {
   "cell_type": "code",
   "execution_count": null,
   "id": "fb1797fd8b6823e9",
   "metadata": {
    "collapsed": false
   },
   "outputs": [],
   "source": [
    "titanic_df['Age'].isnull().sum()"
   ]
  },
  {
   "cell_type": "code",
   "execution_count": null,
   "id": "3d86955b11a777b3",
   "metadata": {
    "collapsed": false
   },
   "outputs": [],
   "source": [
    "titanic_func(titanic_df, 'Age', count=False)"
   ]
  },
  {
   "cell_type": "code",
   "execution_count": null,
   "id": "d312cbe4002359b2",
   "metadata": {
    "collapsed": false
   },
   "outputs": [],
   "source": [
    "df['Age'] = titanic_df['Age']"
   ]
  },
  {
   "cell_type": "code",
   "execution_count": null,
   "id": "72b33a1aa342866f",
   "metadata": {
    "collapsed": false
   },
   "outputs": [],
   "source": [
    "df.head()"
   ]
  },
  {
   "cell_type": "code",
   "execution_count": null,
   "id": "c513a2a5084425b9",
   "metadata": {
    "collapsed": false
   },
   "outputs": [],
   "source": [
    "### SibSp"
   ]
  },
  {
   "cell_type": "code",
   "execution_count": null,
   "id": "575cb3904d1df515",
   "metadata": {
    "collapsed": false
   },
   "outputs": [],
   "source": [
    "titanic_func(titanic_df, 'SibSp')"
   ]
  },
  {
   "cell_type": "code",
   "execution_count": null,
   "id": "cf4bb68127a83002",
   "metadata": {
    "collapsed": false
   },
   "outputs": [],
   "source": [
    "df['SibSp'] = titanic_df['SibSp']\n",
    "df.head()"
   ]
  },
  {
   "cell_type": "code",
   "execution_count": null,
   "id": "62cb43d52a278377",
   "metadata": {
    "collapsed": false
   },
   "outputs": [],
   "source": [
    "### Parch"
   ]
  },
  {
   "cell_type": "code",
   "execution_count": null,
   "id": "7882847616d8c4f7",
   "metadata": {
    "collapsed": false
   },
   "outputs": [],
   "source": [
    "titanic_func(titanic_df, 'Parch')"
   ]
  },
  {
   "cell_type": "code",
   "execution_count": null,
   "id": "74bd73ec36913e01",
   "metadata": {
    "collapsed": false
   },
   "outputs": [],
   "source": [
    "df['Parch'] = titanic_df['Parch']"
   ]
  },
  {
   "cell_type": "code",
   "execution_count": null,
   "id": "900001bdce9060ab",
   "metadata": {
    "collapsed": false
   },
   "outputs": [],
   "source": [
    "df.head()"
   ]
  },
  {
   "cell_type": "code",
   "execution_count": null,
   "id": "dadd394212be6ee7",
   "metadata": {
    "collapsed": false
   },
   "outputs": [],
   "source": [
    "### FamilySize "
   ]
  },
  {
   "cell_type": "code",
   "execution_count": null,
   "id": "61febaf6b576f818",
   "metadata": {
    "collapsed": false
   },
   "outputs": [],
   "source": [
    "titanic_df['FamilySize'] = titanic_df['SibSp'] + titanic_df['Parch'] + 1"
   ]
  },
  {
   "cell_type": "code",
   "execution_count": null,
   "id": "990efb3be5d0a154",
   "metadata": {
    "collapsed": false
   },
   "outputs": [],
   "source": [
    "df['FamilySize'] = titanic_df['FamilySize']\n",
    "df.head()"
   ]
  },
  {
   "cell_type": "code",
   "execution_count": null,
   "id": "9f17fd8702589036",
   "metadata": {
    "collapsed": false
   },
   "outputs": [],
   "source": [
    "titanic_func(titanic_df, 'FamilySize')"
   ]
  },
  {
   "cell_type": "code",
   "execution_count": null,
   "id": "dd916b8129b9efb7",
   "metadata": {
    "collapsed": false
   },
   "outputs": [],
   "source": [
    "### Fare"
   ]
  },
  {
   "cell_type": "code",
   "execution_count": null,
   "id": "46aadca1aaae71ad",
   "metadata": {
    "collapsed": false
   },
   "outputs": [],
   "source": [
    "titanic_func(titanic_df, 'Fare', count=False)"
   ]
  },
  {
   "cell_type": "code",
   "execution_count": null,
   "id": "2b80043c998c9720",
   "metadata": {
    "collapsed": false
   },
   "outputs": [],
   "source": [
    "titanic_df['Fare'].isnull().sum()"
   ]
  },
  {
   "cell_type": "code",
   "execution_count": null,
   "id": "e51caf05cd656164",
   "metadata": {
    "collapsed": false
   },
   "outputs": [],
   "source": [
    "# Preenchendo os valores nulos com a média de tarifa de cada classe\n",
    "titanic_df['Fare'] = titanic_df['Fare'].fillna(titanic_df.groupby('Pclass')['Fare'].transform('mean'))"
   ]
  },
  {
   "cell_type": "code",
   "execution_count": null,
   "id": "2ed45324f26ba7d6",
   "metadata": {
    "collapsed": false
   },
   "outputs": [],
   "source": [
    "titanic_df['Fare'].isnull().sum()"
   ]
  },
  {
   "cell_type": "code",
   "execution_count": null,
   "id": "af4559b33110d170",
   "metadata": {
    "collapsed": false
   },
   "outputs": [],
   "source": [
    "titanic_func(titanic_df, 'Fare', count=False)"
   ]
  },
  {
   "cell_type": "code",
   "execution_count": null,
   "id": "6835bebefaf6f8d0",
   "metadata": {
    "collapsed": false
   },
   "outputs": [],
   "source": [
    "# media da tarifa por classe\n",
    "titanic_df.groupby('Pclass')['Fare'].mean()"
   ]
  },
  {
   "cell_type": "code",
   "execution_count": null,
   "id": "b6e38a715614d264",
   "metadata": {
    "collapsed": false
   },
   "outputs": [],
   "source": [
    "titanic_df.isnull().sum()"
   ]
  },
  {
   "cell_type": "code",
   "execution_count": null,
   "id": "9539c9641311e8ab",
   "metadata": {
    "collapsed": false
   },
   "outputs": [],
   "source": [
    "df['Fare'] = titanic_df['Fare']\n",
    "df.head()"
   ]
  },
  {
   "cell_type": "code",
   "execution_count": null,
   "id": "914da9502590d192",
   "metadata": {
    "collapsed": false
   },
   "outputs": [],
   "source": [
    "### Cabin"
   ]
  },
  {
   "cell_type": "code",
   "execution_count": null,
   "id": "4cea2a81def17e76",
   "metadata": {
    "collapsed": false
   },
   "outputs": [],
   "source": [
    "titanic_df['Cabin'].isnull().sum()"
   ]
  },
  {
   "cell_type": "code",
   "execution_count": null,
   "id": "c0176fd0764479ba",
   "metadata": {
    "collapsed": false
   },
   "outputs": [],
   "source": [
    "titanic_df['Cabin'].nunique()"
   ]
  },
  {
   "cell_type": "code",
   "execution_count": null,
   "id": "9439c7fb0bf4d53b",
   "metadata": {
    "collapsed": false
   },
   "outputs": [],
   "source": [
    "titanic_df['Cabin'].unique()"
   ]
  },
  {
   "cell_type": "code",
   "execution_count": null,
   "id": "78a423878447dd52",
   "metadata": {
    "collapsed": false
   },
   "outputs": [],
   "source": [
    "titanic_df['Cabin'].value_counts()"
   ]
  },
  {
   "cell_type": "code",
   "execution_count": null,
   "id": "dca6dba7a597a4ac",
   "metadata": {
    "collapsed": false
   },
   "outputs": [],
   "source": [
    "titanic_df['Cabin'].fillna('N', inplace=True)"
   ]
  },
  {
   "cell_type": "code",
   "execution_count": null,
   "id": "dc6603d2cdf958a7",
   "metadata": {
    "collapsed": false
   },
   "outputs": [],
   "source": [
    "titanic_df['Cabin'].isnull().sum()"
   ]
  },
  {
   "cell_type": "code",
   "execution_count": null,
   "id": "2731ad4e4bd0089f",
   "metadata": {
    "collapsed": false
   },
   "outputs": [],
   "source": [
    "titanic_df['Cabin'].nunique()"
   ]
  },
  {
   "cell_type": "code",
   "execution_count": null,
   "id": "2e876dfc524450b9",
   "metadata": {
    "collapsed": false
   },
   "outputs": [],
   "source": [
    "titanic_df['Cabin'].unique()"
   ]
  },
  {
   "cell_type": "code",
   "execution_count": null,
   "id": "3853624fd567205f",
   "metadata": {
    "collapsed": false
   },
   "outputs": [],
   "source": [
    "titanic_df['Cabin'].value_counts()"
   ]
  },
  {
   "cell_type": "code",
   "execution_count": null,
   "id": "55c213773139331e",
   "metadata": {
    "collapsed": false
   },
   "outputs": [],
   "source": [
    "titanic_df['Cabin'] = titanic_df['Cabin'].apply(lambda x: x[0])"
   ]
  },
  {
   "cell_type": "code",
   "execution_count": null,
   "id": "d2cdc5b137711a18",
   "metadata": {
    "collapsed": false
   },
   "outputs": [],
   "source": [
    "titanic_df['Cabin'].unique()"
   ]
  },
  {
   "cell_type": "code",
   "execution_count": null,
   "id": "60f5a057cc7b68d0",
   "metadata": {
    "collapsed": false
   },
   "outputs": [],
   "source": [
    "titanic_df['Cabin'].value_counts()"
   ]
  },
  {
   "cell_type": "code",
   "execution_count": null,
   "id": "55824410bf444817",
   "metadata": {
    "collapsed": false
   },
   "outputs": [],
   "source": [
    "titanic_func(titanic_df, 'Cabin')"
   ]
  },
  {
   "cell_type": "code",
   "execution_count": null,
   "id": "4c7007d1312c0fca",
   "metadata": {
    "collapsed": false
   },
   "outputs": [],
   "source": [
    "df['Cabin'] = titanic_df['Cabin']"
   ]
  },
  {
   "cell_type": "code",
   "execution_count": null,
   "id": "37b511e7e4b91f41",
   "metadata": {
    "collapsed": false
   },
   "outputs": [],
   "source": [
    "df.head()"
   ]
  },
  {
   "cell_type": "code",
   "execution_count": null,
   "id": "2c7ecf583a65ff2b",
   "metadata": {
    "collapsed": false
   },
   "outputs": [],
   "source": [
    "### Embarked"
   ]
  },
  {
   "cell_type": "code",
   "execution_count": null,
   "id": "80fb3ad08c60bc7b",
   "metadata": {
    "collapsed": false
   },
   "outputs": [],
   "source": [
    "print(titanic_df[titanic_df.index.duplicated()])"
   ]
  },
  {
   "cell_type": "code",
   "execution_count": null,
   "id": "852e09a098d6fd66",
   "metadata": {
    "collapsed": false
   },
   "outputs": [],
   "source": [
    "titanic_df = titanic_df.reset_index(drop=True)"
   ]
  },
  {
   "cell_type": "code",
   "execution_count": null,
   "id": "23ef219d6c6fbf5",
   "metadata": {
    "collapsed": false
   },
   "outputs": [],
   "source": [
    "titanic_func(titanic_df, 'Embarked')"
   ]
  },
  {
   "cell_type": "code",
   "execution_count": null,
   "id": "1362341ebe29014c",
   "metadata": {
    "collapsed": false
   },
   "outputs": [],
   "source": [
    "titanic_df[titanic_df['Embarked'] == 'S']['Survived'].mean()"
   ]
  },
  {
   "cell_type": "code",
   "execution_count": null,
   "id": "12ae553ff99f9be",
   "metadata": {
    "collapsed": false
   },
   "outputs": [],
   "source": [
    "titanic_df[titanic_df['Embarked'] == \"S\"]['Pclass'].mean()"
   ]
  },
  {
   "cell_type": "code",
   "execution_count": null,
   "id": "999cc1fcd1d6f5eb",
   "metadata": {
    "collapsed": false
   },
   "outputs": [],
   "source": [
    "titanic_df[titanic_df['Embarked'] == 'C']['Survived'].mean()"
   ]
  },
  {
   "cell_type": "code",
   "execution_count": null,
   "id": "29ae097684798d0",
   "metadata": {
    "collapsed": false
   },
   "outputs": [],
   "source": [
    "titanic_df[titanic_df['Embarked'] == \"C\"]['Pclass'].mean()"
   ]
  },
  {
   "cell_type": "code",
   "execution_count": null,
   "id": "81c7730ea722be82",
   "metadata": {
    "collapsed": false
   },
   "outputs": [],
   "source": [
    "titanic_df[titanic_df['Embarked'] == 'Q']['Survived'].mean()"
   ]
  },
  {
   "cell_type": "code",
   "execution_count": null,
   "id": "86d8a1dfaa27258e",
   "metadata": {
    "collapsed": false
   },
   "outputs": [],
   "source": [
    "titanic_df[titanic_df['Embarked'] == \"Q\"]['Pclass'].mean()"
   ]
  },
  {
   "cell_type": "code",
   "execution_count": null,
   "id": "cb21c5ebc38ce48c",
   "metadata": {
    "collapsed": false
   },
   "outputs": [],
   "source": [
    "titanic_df['Embarked'].fillna('S', inplace=True)"
   ]
  },
  {
   "cell_type": "code",
   "execution_count": null,
   "id": "a0bbff51a7bac0ce",
   "metadata": {
    "collapsed": false
   },
   "outputs": [],
   "source": [
    "titanic_df['Embarked'].isnull().sum()"
   ]
  },
  {
   "cell_type": "code",
   "execution_count": null,
   "id": "84c2a28c1e230b7b",
   "metadata": {
    "collapsed": false
   },
   "outputs": [],
   "source": [
    "titanic_func(titanic_df, 'Embarked')"
   ]
  },
  {
   "cell_type": "code",
   "execution_count": null,
   "id": "eaea4ec451b44d7",
   "metadata": {
    "collapsed": false
   },
   "outputs": [],
   "source": [
    "df['Embarked'] = titanic_df['Embarked']"
   ]
  },
  {
   "cell_type": "code",
   "execution_count": null,
   "id": "3560c89e23c3a0de",
   "metadata": {
    "collapsed": false
   },
   "outputs": [],
   "source": [
    "### Nome"
   ]
  },
  {
   "cell_type": "code",
   "execution_count": null,
   "id": "89708ecab6343153",
   "metadata": {
    "collapsed": false
   },
   "outputs": [],
   "source": [
    "titanic_df.head()"
   ]
  },
  {
   "cell_type": "code",
   "execution_count": null,
   "id": "d5756af5976c7a2b",
   "metadata": {
    "collapsed": false
   },
   "outputs": [],
   "source": [
    "titanic_df['Name']"
   ]
  },
  {
   "cell_type": "code",
   "execution_count": null,
   "id": "50f1fb804eb680e8",
   "metadata": {
    "collapsed": false
   },
   "outputs": [],
   "source": [
    "titanic_df['Title'] = titanic_df['Name'].str.extract(' ([A-Za-z]+)\\.', expand=False)"
   ]
  },
  {
   "cell_type": "code",
   "execution_count": null,
   "id": "b49cf55e1568e425",
   "metadata": {
    "collapsed": false
   },
   "outputs": [],
   "source": [
    "titanic_df['Title'].unique()"
   ]
  },
  {
   "cell_type": "code",
   "execution_count": null,
   "id": "57b49c7788a9cbdf",
   "metadata": {
    "collapsed": false
   },
   "outputs": [],
   "source": [
    "titanic_df['Title'].value_counts()"
   ]
  },
  {
   "cell_type": "code",
   "execution_count": null,
   "id": "3042ca8910e09d85",
   "metadata": {
    "collapsed": false
   },
   "outputs": [],
   "source": [
    "titanic_df['Title'].isnull().sum()"
   ]
  },
  {
   "cell_type": "code",
   "execution_count": null,
   "id": "ffbfd97bdfb76122",
   "metadata": {
    "collapsed": false
   },
   "outputs": [],
   "source": [
    "titanic_df['Title'] = titanic_df['Title'].replace(\n",
    "    ['Lady', 'Countess', 'Capt', 'Col', 'Don', 'Dr', 'Major', 'Rev', 'Sir', 'Jonkheer', 'Dona'], 'Rare')"
   ]
  },
  {
   "cell_type": "code",
   "execution_count": null,
   "id": "3471a06e4509ee6a",
   "metadata": {
    "collapsed": false
   },
   "outputs": [],
   "source": [
    "titanic_df['Title'] = titanic_df['Title'].replace('Mlle', 'Miss')"
   ]
  },
  {
   "cell_type": "code",
   "execution_count": null,
   "id": "96f338dc3104e94e",
   "metadata": {
    "collapsed": false
   },
   "outputs": [],
   "source": [
    "titanic_df['Title'] = titanic_df['Title'].replace('Ms', 'Miss')"
   ]
  },
  {
   "cell_type": "code",
   "execution_count": null,
   "id": "a065d5202a1a88bd",
   "metadata": {
    "collapsed": false
   },
   "outputs": [],
   "source": [
    "titanic_df['Title'] = titanic_df['Title'].replace('Mme', 'Mrs')"
   ]
  },
  {
   "cell_type": "code",
   "execution_count": null,
   "id": "94fb82e91f00e636",
   "metadata": {
    "collapsed": false
   },
   "outputs": [],
   "source": [
    "titanic_df['Title'].unique()"
   ]
  },
  {
   "cell_type": "code",
   "execution_count": null,
   "id": "7e7ee82e9dce6759",
   "metadata": {
    "collapsed": false
   },
   "outputs": [],
   "source": [
    "titanic_df['Title'].value_counts()"
   ]
  },
  {
   "cell_type": "code",
   "execution_count": null,
   "id": "735d8e60d483d0a6",
   "metadata": {
    "collapsed": false
   },
   "outputs": [],
   "source": [
    "titanic_func(titanic_df, 'Title')"
   ]
  },
  {
   "cell_type": "code",
   "execution_count": null,
   "id": "c5521ce4c6cc66c4",
   "metadata": {
    "collapsed": false
   },
   "outputs": [],
   "source": [
    "df['Title'] = titanic_df['Title']"
   ]
  },
  {
   "cell_type": "code",
   "execution_count": null,
   "id": "d7750b603d309f9",
   "metadata": {
    "collapsed": false
   },
   "outputs": [],
   "source": [
    "df.head()"
   ]
  },
  {
   "cell_type": "code",
   "execution_count": null,
   "id": "da1e0ef986dc6325",
   "metadata": {
    "collapsed": false
   },
   "outputs": [],
   "source": [
    "titanic_df.isnull().sum()"
   ]
  },
  {
   "cell_type": "code",
   "execution_count": null,
   "id": "9f5e664cd2c421fe",
   "metadata": {
    "collapsed": false
   },
   "outputs": [],
   "source": [
    "df.isnull().sum()"
   ]
  },
  {
   "cell_type": "code",
   "execution_count": null,
   "id": "bdc84e74ce878b0f",
   "metadata": {
    "collapsed": false
   },
   "outputs": [],
   "source": [
    "# Verificando a correlação entre as variáveis numeŕicas"
   ]
  },
  {
   "cell_type": "code",
   "execution_count": null,
   "id": "eb45cbe85ed5f7d7",
   "metadata": {
    "collapsed": false
   },
   "outputs": [],
   "source": [
    "numeric_df = df.select_dtypes(include=[np.number])\n",
    "correlation_matrix = numeric_df.corr()"
   ]
  },
  {
   "cell_type": "code",
   "execution_count": null,
   "id": "7e35695a821c91c3",
   "metadata": {
    "collapsed": false
   },
   "outputs": [],
   "source": [
    "numeric_df.corr()"
   ]
  },
  {
   "cell_type": "code",
   "execution_count": null,
   "id": "d8186804c52b0ff0",
   "metadata": {
    "collapsed": false
   },
   "outputs": [],
   "source": [
    "# Verificando a correlação entre as variáveis categóricas"
   ]
  },
  {
   "cell_type": "code",
   "execution_count": null,
   "id": "e3edc1a91829bcb4",
   "metadata": {
    "collapsed": false
   },
   "outputs": [],
   "source": [
    "categoric_df = df.select_dtypes(exclude=[np.number])"
   ]
  },
  {
   "cell_type": "code",
   "execution_count": null,
   "id": "1dc000b967bfa799",
   "metadata": {
    "collapsed": false
   },
   "outputs": [],
   "source": [
    "categoric_df.head()"
   ]
  },
  {
   "cell_type": "code",
   "execution_count": null,
   "id": "9bc7b147c25a0973",
   "metadata": {
    "collapsed": false
   },
   "outputs": [],
   "source": [
    "categoric_df = pd.get_dummies(categoric_df)"
   ]
  },
  {
   "cell_type": "code",
   "execution_count": null,
   "id": "3762fc7dbb315984",
   "metadata": {
    "collapsed": false
   },
   "outputs": [],
   "source": [
    "categoric_df.head()"
   ]
  },
  {
   "cell_type": "code",
   "execution_count": null,
   "id": "4a46f6310fd4d8c6",
   "metadata": {
    "collapsed": false
   },
   "outputs": [],
   "source": [
    "categoric_df.corr()"
   ]
  },
  {
   "cell_type": "code",
   "execution_count": null,
   "id": "d996c7541e8b3764",
   "metadata": {
    "collapsed": false
   },
   "outputs": [],
   "source": [
    "# Verificando a correlação entre as variáveis numeŕicas e categóricas"
   ]
  },
  {
   "cell_type": "code",
   "execution_count": null,
   "id": "3eebe31b78ced3ba",
   "metadata": {
    "collapsed": false
   },
   "outputs": [],
   "source": [
    "df = pd.concat([numeric_df, categoric_df], axis=1)"
   ]
  },
  {
   "cell_type": "code",
   "execution_count": null,
   "id": "58f57e255b7ef2ca",
   "metadata": {
    "collapsed": false
   },
   "outputs": [],
   "source": [
    "df.head()"
   ]
  },
  {
   "cell_type": "code",
   "execution_count": null,
   "id": "81eb22b340f503a5",
   "metadata": {
    "collapsed": false
   },
   "outputs": [],
   "source": [
    "df.corr()"
   ]
  },
  {
   "cell_type": "code",
   "execution_count": null,
   "id": "32622cd19b54c4ec",
   "metadata": {
    "collapsed": false
   },
   "outputs": [],
   "source": [
    "train = df[:train_index].copy()\n",
    "test = df[test_index:].copy()\n",
    "\n",
    "train['Survived'] = train['Survived'].astype(int)"
   ]
  },
  {
   "cell_type": "code",
   "execution_count": null,
   "id": "f6d756eca7be55be",
   "metadata": {
    "collapsed": false
   },
   "outputs": [],
   "source": [
    "train.head()"
   ]
  },
  {
   "cell_type": "code",
   "execution_count": null,
   "id": "b112a496c831d6f8",
   "metadata": {
    "collapsed": false
   },
   "outputs": [],
   "source": [
    "test.head()"
   ]
  },
  {
   "cell_type": "code",
   "execution_count": null,
   "id": "34fdd8b0c6fb3b5",
   "metadata": {
    "collapsed": false
   },
   "outputs": [],
   "source": [
    "X = train.drop('Survived', axis=1)\n",
    "y = train['Survived']"
   ]
  },
  {
   "cell_type": "code",
   "execution_count": null,
   "id": "9fac3a51b3664453",
   "metadata": {
    "collapsed": false
   },
   "outputs": [],
   "source": [
    "X_test = test.drop('Survived', axis=1)"
   ]
  },
  {
   "cell_type": "code",
   "execution_count": null,
   "id": "c1ee4ac7c9796ce3",
   "metadata": {
    "collapsed": false
   },
   "outputs": [],
   "source": [
    "### Testando varios modelos"
   ]
  },
  {
   "cell_type": "code",
   "execution_count": null,
   "id": "a8126065104ec5cf",
   "metadata": {
    "collapsed": false
   },
   "outputs": [],
   "source": [
    "def func_acuracia(algoritmo, X_train, y_train, vc):\n",
    "    modelo = algoritmo.fit(X_train, y_train)\n",
    "    acuracia = round(modelo.score(X_train, y_train) * 100, 2)\n",
    "\n",
    "    train_pred = model_selection.cross_val_predict(algoritmo, X_train, y_train, cv=vc, n_jobs=-1)\n",
    "    acuracia_vc = round(metrics.accuracy_score(y_train, train_pred) * 100, 2)\n",
    "\n",
    "    return acuracia, acuracia_vc"
   ]
  },
  {
   "cell_type": "code",
   "execution_count": null,
   "id": "5af87ec1419d69b9",
   "metadata": {
    "collapsed": false
   },
   "outputs": [],
   "source": [
    "from sklearn.metrics import recall_score\n",
    "\n",
    "from sklearn.metrics import f1_score\n",
    "\n",
    "\n",
    "def func_acuracia_GS(algoritmo, params, X_train, y_train, cv):\n",
    "    # Instanciando a GridSearchCV\n",
    "    grid = GridSearchCV(algoritmo, params, cv=cv, n_jobs=-1, verbose=1)\n",
    "\n",
    "    # Ajustando a GridSearchCV nos dados de treinamento\n",
    "    grid.fit(X_train, y_train)\n",
    "\n",
    "    # Selecionando o melhor estimador\n",
    "    modelo = grid.best_estimator_\n",
    "\n",
    "    # Verificando a acurácia nos dados de treinamento\n",
    "    acuracia = round(modelo.score(X_train, y_train) * 100, 2)\n",
    "\n",
    "    # Obtendo as previsões via cross-validation para verificar a acuracia\n",
    "    train_pred = cross_val_predict(modelo, X_train, y_train, cv=cv, n_jobs=-1)\n",
    "\n",
    "    acuracia_cv = round(accuracy_score(y_train, train_pred) * 100, 2)\n",
    "\n",
    "    # Calcular Recall\n",
    "    recall = round(recall_score(y_train, train_pred, average='macro') * 100,\n",
    "                   2)  # Para labels binários pode remover \"average\"\n",
    "\n",
    "    # Calcular F1-score\n",
    "    f1 = round(f1_score(y_train, train_pred, average='macro') * 100, 2)  # Para labels binários pode remover \"average\"\n",
    "\n",
    "    print(f\"Melhores parâmetros: {grid.best_params_}\")\n",
    "    print(f\"Acurácia após GridSearchCV: {acuracia}\")\n",
    "    print(f\"Acurácia de validação cruzada: {acuracia_cv}\")\n",
    "    print(f\"Recall: {recall}\")\n",
    "    print(f\"F1-Score: {f1}\")\n",
    "\n",
    "    return modelo, acuracia, acuracia_cv, recall, f1"
   ]
  },
  {
   "cell_type": "code",
   "execution_count": null,
   "id": "436a1d97ade27121",
   "metadata": {
    "collapsed": false
   },
   "outputs": [],
   "source": [
    "### Regressão Logística"
   ]
  },
  {
   "cell_type": "code",
   "execution_count": null,
   "id": "7ea27a826448fb5",
   "metadata": {
    "collapsed": false
   },
   "outputs": [],
   "source": [
    "acc_log, acc_log_vc = func_acuracia(LogisticRegression(max_iter=1000), X, y, 10)\n",
    "\n",
    "print(f'Acurácia Regressão Logística: {acc_log}')\n",
    "print(f'Acurácia Regressão Logística com Validação Cruzada: {acc_log_vc}')"
   ]
  },
  {
   "cell_type": "code",
   "execution_count": null,
   "id": "740348f0c0a03e11",
   "metadata": {
    "collapsed": false
   },
   "outputs": [],
   "source": [
    "### Regressao Logistica com GridSearchCV"
   ]
  },
  {
   "cell_type": "code",
   "execution_count": null,
   "id": "15966e2050823b6",
   "metadata": {
    "collapsed": false
   },
   "outputs": [],
   "source": [
    "log_params = {'penalty': ['l2', 'elasticnet', 'none'],\n",
    "              'C': [0.1, 0.5, 1, 5, 10],\n",
    "              'solver': ['newton-cg', 'lbfgs', 'liblinear', 'sag', 'saga'],\n",
    "              'max_iter': [1000, 10000, 25000, 50000]}\n",
    "\n",
    "modelo, acc_log, acc_log_cv, recall_log, f1_log = func_acuracia_GS(LogisticRegression(), log_params, X, y, 10)\n",
    "print(f'Parâmetros otimizados do Modelo: {modelo}')\n",
    "print(f'Acurácia Regressão Logística: {acc_log}')\n",
    "print(f'Acurácia Regressão Logística com Validação Cruzada: {acc_log_cv}')\n",
    "print(f'Recall Regressão Logística: {recall_log}')\n",
    "print(f'F1-Score Regressão Logística: {f1_log}')"
   ]
  },
  {
   "cell_type": "code",
   "execution_count": null,
   "id": "54acaa42c82003f5",
   "metadata": {
    "collapsed": false
   },
   "outputs": [],
   "source": [
    "### KNN"
   ]
  },
  {
   "cell_type": "code",
   "execution_count": null,
   "id": "43df8a3d49a05a50",
   "metadata": {
    "collapsed": false
   },
   "outputs": [],
   "source": [
    "acc_knn, acc_knn_vc = func_acuracia(KNeighborsClassifier(n_neighbors=3), X, y, 10)\n",
    "\n",
    "print(f'Acurácia KNN: {acc_knn}')\n",
    "print(f'Acurácia KNN com Validação Cruzada: {acc_knn_vc}')"
   ]
  },
  {
   "cell_type": "code",
   "execution_count": null,
   "id": "a35753f6fc3a2fe4",
   "metadata": {
    "collapsed": false
   },
   "outputs": [],
   "source": [
    "### KNN com GridSearchCV"
   ]
  },
  {
   "cell_type": "code",
   "execution_count": null,
   "id": "1b8d6e883f3aaa84",
   "metadata": {
    "collapsed": false
   },
   "outputs": [],
   "source": [
    "knn_params = {'n_neighbors': [3, 5, 10, 20],\n",
    "              'weights': ['uniform', 'distance'],\n",
    "              'metric': ['euclidean', 'manhattan', 'minkowski']}\n",
    "\n",
    "modelo, acc_knn, acc_knn_cv, recall_knn, f1_knn = func_acuracia_GS(KNeighborsClassifier(), knn_params, X, y, 10)\n",
    "print(f'Parâmetros otimizados do Modelo: {modelo}')\n",
    "print(f'Acurácia KNN: {acc_knn}')\n",
    "print(f'Acurácia KNN com Validação Cruzada: {acc_knn_cv}')\n",
    "print(f'Recall KNN: {recall_knn}')\n",
    "print(f'F1-Score KNN: {f1_knn}')"
   ]
  },
  {
   "cell_type": "code",
   "execution_count": null,
   "id": "33358582a55b9cb8",
   "metadata": {
    "collapsed": false
   },
   "outputs": [],
   "source": [
    "### Gaussian Naive Bayes"
   ]
  },
  {
   "cell_type": "code",
   "execution_count": null,
   "id": "4d32a4a39765d4ad",
   "metadata": {
    "collapsed": false
   },
   "outputs": [],
   "source": [
    "acc_gaussian, acc_gaussian_vc = func_acuracia(GaussianNB(), X, y, 10)\n",
    "\n",
    "print(f'Acurácia Gaussian Naive Bayes: {acc_gaussian}')\n",
    "print(f'Acurácia Gaussian Naive Bayes com Validação Cruzada: {acc_gaussian_vc}')"
   ]
  },
  {
   "cell_type": "code",
   "execution_count": null,
   "id": "be4675f71a71dcb7",
   "metadata": {
    "collapsed": false
   },
   "outputs": [],
   "source": [
    "### Gaussian Naive Bayes com GridSearchCV"
   ]
  },
  {
   "cell_type": "code",
   "execution_count": null,
   "id": "5d18de866da0b78d",
   "metadata": {
    "collapsed": false
   },
   "outputs": [],
   "source": [
    "gaussian_params = {'var_smoothing': np.logspace(0, -9, num=100)}\n",
    "\n",
    "modelo, acc_gaussian, acc_gaussian_cv, recall_gaussian, f1_gaussian = func_acuracia_GS(GaussianNB(), gaussian_params,\n",
    "                                                                                       X, y, 10)\n",
    "print(f'Parâmetros otimizados do Modelo: {modelo}')\n",
    "print(f'Acurácia Gaussian Naive Bayes: {acc_gaussian}')\n",
    "print(f'Acurácia Gaussian Naive Bayes com Validação Cruzada: {acc_gaussian_cv}')\n",
    "print(f'Recall Gaussian Naive Bayes: {recall_gaussian}')\n",
    "print(f'F1-Score Gaussian Naive Bayes: {f1_gaussian}')"
   ]
  },
  {
   "cell_type": "code",
   "execution_count": null,
   "id": "1c1e9ffb530a4ac6",
   "metadata": {
    "collapsed": false
   },
   "outputs": [],
   "source": [
    "### Linear SVC"
   ]
  },
  {
   "cell_type": "code",
   "execution_count": null,
   "id": "a6166b71fa99f605",
   "metadata": {
    "collapsed": false
   },
   "outputs": [],
   "source": [
    "acc_linear_svc, acc_linear_svc_vc = func_acuracia(LinearSVC(max_iter=10000), X, y, 10)\n",
    "\n",
    "print(f'Acurácia Linear SVC: {acc_linear_svc}')\n",
    "print(f'Acurácia Linear SVC com Validação Cruzada: {acc_linear_svc_vc}')"
   ]
  },
  {
   "cell_type": "code",
   "execution_count": null,
   "id": "803ee215ed45da50",
   "metadata": {
    "collapsed": false
   },
   "outputs": [],
   "source": [
    "### Linear SVC com GridSearchCV"
   ]
  },
  {
   "cell_type": "code",
   "execution_count": null,
   "id": "91c7cd7515aa6cdd",
   "metadata": {
    "collapsed": false
   },
   "outputs": [],
   "source": [
    "svc_params = {'C': [0.1, 0.5, 1, 5, 10],\n",
    "              'max_iter': [1000, 10000, 25000, 50000]}\n",
    "\n",
    "modelo, acc_svc, acc_svc_cv, recall_svc, f1_svc = func_acuracia_GS(LinearSVC(), svc_params, X, y, 10)\n",
    "print(f'Parâmetros otimizados do Modelo: {modelo}')\n",
    "print(f'Acurácia Linear SVC: {acc_svc}')\n",
    "print(f'Acurácia Linear SVC com Validação Cruzada: {acc_svc_cv}')\n",
    "print(f'Recall Linear SVC: {recall_svc}')\n",
    "print(f'F1-Score Linear SVC: {f1_svc}')"
   ]
  },
  {
   "cell_type": "code",
   "execution_count": null,
   "id": "6489112b6f40f560",
   "metadata": {
    "collapsed": false
   },
   "outputs": [],
   "source": [
    "### Stochastic Gradient Descent"
   ]
  },
  {
   "cell_type": "code",
   "execution_count": null,
   "id": "7e8933d8b49fb29f",
   "metadata": {
    "collapsed": false
   },
   "outputs": [],
   "source": [
    "acc_sgd, acc_sgd_vc = func_acuracia(SGDClassifier(max_iter=1000), X, y, 10)\n",
    "\n",
    "print(f'Acurácia Stochastic Gradient Descent: {acc_sgd}')\n",
    "print(f'Acurácia Stochastic Gradient Descent com Validação Cruzada: {acc_sgd_vc}')"
   ]
  },
  {
   "cell_type": "code",
   "execution_count": null,
   "id": "c8f947d884e341d9",
   "metadata": {
    "collapsed": false
   },
   "outputs": [],
   "source": [
    "### Stochastic Gradient Descent com GridSearchCV"
   ]
  },
  {
   "cell_type": "code",
   "execution_count": null,
   "id": "141ee6dc805c10be",
   "metadata": {
    "collapsed": false
   },
   "outputs": [],
   "source": [
    "sgd_params = {\n",
    "    'loss': ['hinge', 'log', 'modified_huber', 'squared_hinge', 'perceptron'],\n",
    "    'alpha': [0.0001, 0.001, 0.01, 0.1, 1, 10, 100],\n",
    "    'penalty': ['none', 'l1', 'l2', 'elasticnet']\n",
    "}\n",
    "\n",
    "modelo, acc_sgd, acc_sgd_cv, recall_sgd, f1_sgd = func_acuracia_GS(SGDClassifier(), sgd_params, X, y, 10)\n",
    "print(f'Parâmetros otimizados do Modelo: {modelo}')\n",
    "print(f'Acurácia Stochastic Gradient Descent: {acc_sgd}')\n",
    "print(f'Acurácia Stochastic Gradient Descent com Validação Cruzada: {acc_sgd_cv}')\n",
    "print(f'Recall Stochastic Gradient Descent: {recall_sgd}')\n",
    "print(f'F1-Score Stochastic Gradient Descent: {f1_sgd}')"
   ]
  },
  {
   "cell_type": "code",
   "execution_count": null,
   "id": "c22cfdff5b23311",
   "metadata": {
    "collapsed": false
   },
   "outputs": [],
   "source": [
    "### Decision Tree"
   ]
  },
  {
   "cell_type": "code",
   "execution_count": null,
   "id": "9ca636dd3839be29",
   "metadata": {
    "collapsed": false
   },
   "outputs": [],
   "source": [
    "acc_decision_tree, acc_decision_tree_vc = func_acuracia(DecisionTreeClassifier(), X, y, 10)\n",
    "\n",
    "print(f'Acurácia Decision Tree: {acc_decision_tree}')\n",
    "print(f'Acurácia Decision Tree com Validação Cruzada: {acc_decision_tree_vc}')"
   ]
  },
  {
   "cell_type": "code",
   "execution_count": null,
   "id": "383ce5ae967515cd",
   "metadata": {
    "collapsed": false
   },
   "outputs": [],
   "source": [
    "### Decision Tree com GridSearchCV"
   ]
  },
  {
   "cell_type": "code",
   "execution_count": null,
   "id": "84ec2fe3fd26641a",
   "metadata": {
    "collapsed": false
   },
   "outputs": [],
   "source": [
    "decision_tree_params = {'criterion': ['gini', 'entropy'],\n",
    "                        'splitter': ['best', 'random'],\n",
    "                        'max_depth': [None, 5, 10, 15, 20],\n",
    "                        'min_samples_split': [2, 5, 10]}\n",
    "\n",
    "modelo, acc_decision_tree, acc_decision_tree_cv, recall_decision_tree, f1_decision_tree = func_acuracia_GS(\n",
    "    DecisionTreeClassifier(), decision_tree_params, X, y, 10)\n",
    "print(f'Parâmetros otimizados do Modelo: {modelo}')\n",
    "print(f'Acurácia Decision Tree: {acc_decision_tree}')\n",
    "print(f'Acurácia Decision Tree com Validação Cruzada: {acc_decision_tree_cv}')\n",
    "print(f'Recall Decision Tree: {recall_decision_tree}')\n",
    "print(f'F1-Score Decision Tree: {f1_decision_tree}')"
   ]
  },
  {
   "cell_type": "code",
   "execution_count": null,
   "id": "cb2acd9f17e850e3",
   "metadata": {
    "collapsed": false
   },
   "outputs": [],
   "source": [
    "### Random Forest"
   ]
  },
  {
   "cell_type": "code",
   "execution_count": null,
   "id": "7ef376a71c19a813",
   "metadata": {
    "collapsed": false
   },
   "outputs": [],
   "source": [
    "acc_random_forest, acc_random_forest_vc = func_acuracia(RandomForestClassifier(n_estimators=100), X, y, 10)\n",
    "\n",
    "print(f'Acurácia Random Forest: {acc_random_forest}')\n",
    "print(f'Acurácia Random Forest com Validação Cruzada: {acc_random_forest_vc}')"
   ]
  },
  {
   "cell_type": "code",
   "execution_count": null,
   "id": "11f2895bdf6a89bd",
   "metadata": {
    "collapsed": false
   },
   "outputs": [],
   "source": [
    "### Random Forest com GridSearchCV"
   ]
  },
  {
   "cell_type": "code",
   "execution_count": null,
   "id": "52d11ff555b2daee",
   "metadata": {
    "collapsed": false
   },
   "outputs": [],
   "source": [
    "random_forest_params = {'n_estimators': [50, 100, 200],\n",
    "                        'criterion': ['gini', 'entropy'],\n",
    "                        'max_depth': [None, 5, 10, 15, 20],\n",
    "                        'min_samples_split': [2, 5, 10]}\n",
    "\n",
    "modelo, acc_random_forest, acc_random_forest_cv, recall_random_forest, f1_random_forest = func_acuracia_GS(\n",
    "    RandomForestClassifier(), random_forest_params, X, y, 10)\n",
    "print(f'Parâmetros otimizados do Modelo: {modelo}')\n",
    "print(f'Acurácia Random Forest: {acc_random_forest}')\n",
    "print(f'Acurácia Random Forest com Validação Cruzada: {acc_random_forest_cv}')\n",
    "print(f'Recall Random Forest: {recall_random_forest}')\n",
    "print(f'F1-Score Random Forest: {f1_random_forest}')"
   ]
  },
  {
   "cell_type": "code",
   "execution_count": null,
   "id": "bf917f8e66aafad6",
   "metadata": {
    "collapsed": false
   },
   "outputs": [],
   "source": [
    "### Gradient Boosting Classifier"
   ]
  },
  {
   "cell_type": "code",
   "execution_count": null,
   "id": "dbe8a48269056884",
   "metadata": {
    "collapsed": false
   },
   "outputs": [],
   "source": [
    "acc_gradient_boosting, acc_gradient_boosting_vc = func_acuracia(GradientBoostingClassifier(), X, y, 10)\n",
    "\n",
    "print(f'Acurácia Gradient Boosting Classifier: {acc_gradient_boosting}')\n",
    "print(f'Acurácia Gradient Boosting Classifier com Validação Cruzada: {acc_gradient_boosting_vc}')"
   ]
  },
  {
   "cell_type": "code",
   "execution_count": null,
   "id": "4e0e4e97de6d9ba9",
   "metadata": {
    "collapsed": false
   },
   "outputs": [],
   "source": [
    "### Gradient Boosting Classifier com GridSearchCV"
   ]
  },
  {
   "cell_type": "code",
   "execution_count": null,
   "id": "6d33033b78637f42",
   "metadata": {
    "collapsed": false
   },
   "outputs": [],
   "source": [
    "gradient_boosting_params = {'loss': ['deviance', 'exponential'],\n",
    "                            'learning_rate': [0.01, 0.1, 1],\n",
    "                            'n_estimators': [50, 100, 200],\n",
    "                            'criterion': ['friedman_mse', 'mse', 'mae'],\n",
    "                            'max_depth': [None, 5, 10, 15, 20],\n",
    "                            'min_samples_split': [2, 5, 10]}\n",
    "\n",
    "modelo, acc_gradient_boosting, acc_gradient_boosting_cv, recall_gradient_boosting, f1_gradient_boosting = func_acuracia_GS(\n",
    "    GradientBoostingClassifier(), gradient_boosting_params, X, y, 10)\n",
    "print(f'Parâmetros otimizados do Modelo: {modelo}')\n",
    "print(f'Acurácia Gradient Boosting Classifier: {acc_gradient_boosting}')\n",
    "print(f'Acurácia Gradient Boosting Classifier com Validação Cruzada: {acc_gradient_boosting_cv}')\n",
    "print(f'Recall Gradient Boosting Classifier: {recall_gradient_boosting}')\n",
    "print(f'F1-Score Gradient Boosting Classifier: {f1_gradient_boosting}')"
   ]
  },
  {
   "cell_type": "code",
   "execution_count": null,
   "id": "62b9fcfa94a0a2e9",
   "metadata": {
    "collapsed": false
   },
   "outputs": [],
   "source": [
    "### CatBoost"
   ]
  },
  {
   "cell_type": "code",
   "execution_count": null,
   "id": "4ae7910a8b906aa8",
   "metadata": {
    "collapsed": false
   },
   "outputs": [],
   "source": [
    "acc_catboost, acc_catboost_vc = func_acuracia(CatBoostClassifier(verbose=False), X, y, 10)\n",
    "\n",
    "print(f'Acurácia CatBoost: {acc_catboost}')\n",
    "print(f'Acurácia CatBoost com Validação Cruzada: {acc_catboost_vc}')"
   ]
  },
  {
   "cell_type": "code",
   "execution_count": null,
   "id": "9618323e51cc99b4",
   "metadata": {
    "collapsed": false
   },
   "outputs": [],
   "source": [
    "### CatBoost com GridSearchCV (cancelado pois demorou muito)"
   ]
  },
  {
   "cell_type": "code",
   "execution_count": null,
   "outputs": [],
   "source": [
    "##catboost_params = {'iterations': [50, 100, 200],\n",
    "##                   'learning_rate': [0.01, 0.1, 1],\n",
    "##                   'depth': [None, 5, 10, 15, 20]}\n",
    "##\n",
    "##modelo, acc_catboost, acc_catboost_cv, recall_catboost, f1_catboost = func_acuracia_GS(\n",
    "##    CatBoostClassifier(verbose=True),\n",
    "##    catboost_params, X, y, 3)\n",
    "##print(f'Parâmetros otimizados do Modelo: {modelo}')\n",
    "##print(f'Acurácia CatBoost: {acc_catboost}')\n",
    "##print(f'Acurácia CatBoost com Validação Cruzada: {acc_catboost_cv}')\n",
    "##print(f'Recall CatBoost: {recall_catboost}')\n",
    "##print(f'F1-Score CatBoost: {f1_catboost}')"
   ],
   "metadata": {
    "collapsed": false
   },
   "id": "cb7e25883191f367"
  },
  {
   "cell_type": "code",
   "execution_count": null,
   "id": "f7360283979c8242",
   "metadata": {
    "collapsed": false
   },
   "outputs": [],
   "source": [
    "### Comparando os modelos"
   ]
  },
  {
   "cell_type": "code",
   "execution_count": null,
   "id": "3649fc9a11d25d15",
   "metadata": {
    "collapsed": false
   },
   "outputs": [],
   "source": [
    "recall_catboost = 0\n",
    "f1_catboost = 0\n",
    "\n",
    "models = pd.DataFrame({\n",
    "    'Modelo': ['Regressão Logística', 'KNN', 'Gaussian Naive Bayes', 'Linear SVC', 'Stochastic Gradient Descent',\n",
    "               'Decision Tree', 'Random Forest', 'Gradient Boosting Classifier', 'CatBoost'],\n",
    "    'Acurácia': [acc_log, acc_knn, acc_gaussian, acc_linear_svc, acc_sgd, acc_decision_tree, acc_random_forest,\n",
    "                 acc_gradient_boosting, acc_catboost],\n",
    "    'Acurácia com Validação Cruzada': [acc_log_vc, acc_knn_vc, acc_gaussian_vc, acc_linear_svc_vc, acc_sgd_vc,\n",
    "                                       acc_decision_tree_vc, acc_random_forest_vc, acc_gradient_boosting_vc,\n",
    "                                       acc_catboost_vc],\n",
    "    'Recall': [recall_log, recall_knn, recall_gaussian, recall_svc, recall_sgd, recall_decision_tree,\n",
    "               recall_random_forest, recall_gradient_boosting, recall_catboost],\n",
    "    'F1-Score': [f1_log, f1_knn, f1_gaussian, f1_svc, f1_sgd, f1_decision_tree, f1_random_forest, f1_gradient_boosting,\n",
    "                 f1_catboost]})"
   ]
  },
  {
   "cell_type": "code",
   "execution_count": null,
   "id": "746ce92d6ee3d659",
   "metadata": {
    "collapsed": false
   },
   "outputs": [],
   "source": [
    "models"
   ]
  }
 ],
 "metadata": {
  "kernelspec": {
   "display_name": "Python 3 (ipykernel)",
   "language": "python",
   "name": "python3"
  },
  "language_info": {
   "codemirror_mode": {
    "name": "ipython",
    "version": 3
   },
   "file_extension": ".py",
   "mimetype": "text/x-python",
   "name": "python",
   "nbconvert_exporter": "python",
   "pygments_lexer": "ipython3",
   "version": "3.10.9"
  }
 },
 "nbformat": 4,
 "nbformat_minor": 5
}
